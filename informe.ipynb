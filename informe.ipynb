{
 "cells": [
  {
   "cell_type": "markdown",
   "metadata": {},
   "source": [
    "# Análisis de sistemas electorales para la Cámara de Diputadas y Diputados de Chile"
   ]
  },
  {
   "cell_type": "markdown",
   "metadata": {},
   "source": [
    "En el presente informe, se utilizan los datos de las elecciones parlamentarias\n",
    "de Chile de 2021 para simular la distribución de escaños en la Cámara de\n",
    "Diputadas y Diputados bajo distintos sistemas electorales. Para cada sistema,\n",
    "se presentan ventajas y desventajas, justificadas mediante un análisis numérico\n",
    "de los resultados.\n",
    "\n",
    "Se proponen los siguientes sistemas (en cursiva los que aún no se han\n",
    "analizado):\n",
    "\n",
    "- *Proporcional por distrito*\n",
    "    - *D'Hondt estándar (actualmente usado)*\n",
    "    - *D'Hondt con umbral nacional (actualmente en discusión)*\n",
    "    - *D'Hondt sin pactos*\n",
    "- *Proporcional nacional*\n",
    "    - *D'Hondt nacional*\n",
    "    - *D'Hondt nacional con umbral electoral*\n",
    "    - *D'Hondt nacional sin pactos*\n",
    "- *Bipartidistas*\n",
    "    - *Binomial*\n",
    "    - *Uninominal (first-past-the-post)*\n",
    "- *Mixtos*\n",
    "    - *Mixed-Member Proportional / Additional Member System*\n",
    "    - *D'Hondt con escaños niveladores*\n",
    "    - *Binomial con escaños niveladores*\n",
    "- *Sistema biproporcional*"
   ]
  },
  {
   "cell_type": "code",
   "execution_count": 1,
   "metadata": {},
   "outputs": [],
   "source": [
    "import numpy as np\n",
    "import pandas as pd\n",
    "\n",
    "from data_load_utils import *\n",
    "from systems import *"
   ]
  },
  {
   "cell_type": "markdown",
   "metadata": {},
   "source": [
    "## Carga de datos"
   ]
  },
  {
   "cell_type": "markdown",
   "metadata": {},
   "source": [
    "Primero, se carga a un dataframe el archivo `datos.csv` con una representación\n",
    "ordenada de todas las votaciones obtenidas durante la elección parlamentaria,\n",
    "exceptuando candidatos independientes fuera de pacto. La creación de este\n",
    "archivo fue a partir de los resultados oficiales de las elecciones entregados\n",
    "por el [Tricel](https://tricel.cl/resultados-de-elecciones/). En el anexo\n",
    "[`carga_datos.ipynb`](carga_datos.ipynb) se puede ver este proceso con mayor\n",
    "profundidad."
   ]
  },
  {
   "cell_type": "code",
   "execution_count": 2,
   "metadata": {},
   "outputs": [],
   "source": [
    "df = pd.read_csv(\"datos.csv\", index_col=0)"
   ]
  },
  {
   "cell_type": "markdown",
   "metadata": {},
   "source": [
    "Para las simulaciones en las cuales no se utilizan pactos, creamos una copia\n",
    "del dataframe donde el pacto de cada candidato es reemplazado por su partido."
   ]
  },
  {
   "cell_type": "code",
   "execution_count": 3,
   "metadata": {},
   "outputs": [],
   "source": [
    "df_no_pact = df.copy()\n",
    "df_no_pact[\"pact\"] = df_no_pact[\"party\"]"
   ]
  },
  {
   "cell_type": "markdown",
   "metadata": {},
   "source": [
    "En las simulaciones usando D'Hondt, se mantendrá la distribución de escaños del\n",
    "congreso actual para cada uno de los 28 distritos."
   ]
  },
  {
   "cell_type": "code",
   "execution_count": 4,
   "metadata": {},
   "outputs": [],
   "source": [
    "district_seats = pd.Series(\n",
    "    np.array(\n",
    "        [3, 3, 5, 5, 7, 8, 8, 8, 7, 8, 6, 7, 5, 6,\n",
    "        5, 4, 7, 4, 5, 8, 5, 4, 7, 5, 4, 5, 3, 3]\n",
    "    ),\n",
    "    index=range(1, 29)\n",
    ")"
   ]
  },
  {
   "cell_type": "markdown",
   "metadata": {},
   "source": [
    "Para las simulaciones que utilizan distritos binomiales y uninominales, se\n",
    "deben redistribuir los distritos existentes. A cada distrito se le asignó una\n",
    "cantidad de subdistritos en los cuales dividirse, según su cantidad total de\n",
    "votantes. La asignación se realizó usando el [método de\n",
    "Huntington-Hill](https://en.wikipedia.org/wiki/Huntington%E2%80%93Hill_method),\n",
    "el mismo usado para la asignación de escaños a los distintos estados de los\n",
    "Estados Unidos en su Cámara de Representantes. Usando este método, se\n",
    "obtuvieron 50 distritos binomiales y 100 distritos uninominales.\n",
    "\n",
    "Una vez obtenida la cantidad de subdistritos, los candidatos de cada distrito\n",
    "se reasignaron intentando que cada pacto tuviese una cantidad \"equitativa\" de\n",
    "candidatos en cada subdistrito (es decir, si un pacto tenía 9 candidatos en un\n",
    "distrito que se dividió en 3, se esperarían 3 candidatos del pacto en cada\n",
    "subdistrito). Esta reasignación no es ideal, pero es útil para un experimento\n",
    "más exploratorio que riguroso."
   ]
  },
  {
   "cell_type": "code",
   "execution_count": 5,
   "metadata": {},
   "outputs": [],
   "source": [
    "# votos totales por distrito\n",
    "district_votes = df.groupby(\"district\")[\"votes\"].sum()\n",
    "\n",
    "# escaños iniciales (1 para cada distrito)\n",
    "initial_seats = pd.Series([1]*28, index=range(1, 29))\n",
    "\n",
    "huntington_hill_denominator = lambda x: np.sqrt(x * (x + 1))\n",
    "\n",
    "# asignación de distritos binomiales\n",
    "bin_split = assign_seats_to_parties(\n",
    "    district_votes,\n",
    "    50,\n",
    "    initial_seats,\n",
    "    huntington_hill_denominator\n",
    ")\n",
    "df_bin = redistrict_candidates(df, bin_split)\n",
    "districts_bin = df_bin[\"district\"].drop_duplicates().to_list()\n",
    "district_seats_bin = pd.Series([2]*len(districts_bin), index=districts_bin)\n",
    "\n",
    "# asignación de distritos uninominales\n",
    "mono_split = assign_seats_to_parties(\n",
    "    district_votes,\n",
    "    100,\n",
    "    initial_seats,\n",
    "    huntington_hill_denominator\n",
    ")\n",
    "df_mono = redistrict_candidates(df, mono_split)\n",
    "districts_mono = df_mono[\"district\"].drop_duplicates().to_list()\n",
    "district_seats_mono = pd.Series([1]*len(districts_mono), index=districts_mono)"
   ]
  },
  {
   "cell_type": "markdown",
   "metadata": {},
   "source": [
    "Finalmente, se utiliza el diccionario `colors` para asignar un color RGB a cada partido político (a usarse en las representaciones visuales de cada simulación), y también para ordenar los partidos según el eje izquierda-derecha en los diagramas de hemiciclo."
   ]
  },
  {
   "cell_type": "code",
   "execution_count": 6,
   "metadata": {},
   "outputs": [],
   "source": [
    "colors = pd.Series({\n",
    "    \"PTR\": \"#BE0411\",\n",
    "    \"UPA\": \"#CC0000\",\n",
    "    \n",
    "    \"PC\": \"#B22222\",\n",
    "    \"FREVS\": \"#008000\",\n",
    "    \"COM\": \"#461D3D\",\n",
    "    \"CS\": \"#FF1455\",\n",
    "    \"RD\": \"#1D4C4F\",\n",
    "    \n",
    "    \"PI\": \"#000000\",\n",
    "    \"PH\": \"#FF4500\",\n",
    "    \"PEV\": \"#03BF00\",\n",
    "    \"PRO\": \"#E02385\",\n",
    "    \n",
    "    \"PS\": \"#ED1624\",\n",
    "    \"PPD\": \"#FFA500\",\n",
    "    \"PR\": \"#CD5C5C\",\n",
    "    \"PL\": \"#FFD700\",\n",
    "    \"CIU\": \"#DB8F16\",\n",
    "    \"PDC\": \"#1E90FF\",\n",
    "    \n",
    "    \"PDG\": \"#00285E\",\n",
    "    \"CU\": \"#037E3B\",\n",
    "\n",
    "    \"EVO\": \"#0CB8E6\",\n",
    "    \"PRI\": \"#4A1C51\",    \n",
    "    \"RN\": \"#024E9A\",\n",
    "    \"UDI\": \"#29398A\",\n",
    "    \n",
    "    \"PNC\": \"#0000FF\",\n",
    "    \"NT\": \"#000080\",\n",
    "\n",
    "    \"PCC\": \"#000080\",\n",
    "    \"PLR\": \"#22446D\",\n",
    "})\n",
    "\n",
    "party_order = list(colors.keys())"
   ]
  }
 ],
 "metadata": {
  "kernelspec": {
   "display_name": "vote",
   "language": "python",
   "name": "python3"
  },
  "language_info": {
   "codemirror_mode": {
    "name": "ipython",
    "version": 3
   },
   "file_extension": ".py",
   "mimetype": "text/x-python",
   "name": "python",
   "nbconvert_exporter": "python",
   "pygments_lexer": "ipython3",
   "version": "3.11.8"
  }
 },
 "nbformat": 4,
 "nbformat_minor": 2
}
